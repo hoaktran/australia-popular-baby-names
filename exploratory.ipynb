{
 "cells": [
  {
   "attachments": {},
   "cell_type": "markdown",
   "metadata": {},
   "source": [
    "# Analysing New South Wales (NSW) Baby Name Trends\n",
    "## Questions\n",
    "* How have NSW baby name tastes changed since 1950?\n",
    "* Which names have remained popular for over 70 years, and how do those names compare to more recent top baby names?\n",
    "\n",
    "I'll be working with data provided by the NSW Registry of Births, Deaths and Marriages, which lists first names along with the number and sex of babies they were given to in each year.\n",
    "\n",
    "## Data Source\n",
    "* Source URL: Data.NSW https://data.nsw.gov.au/data/dataset/popular-baby-names-from-1952\n",
    "* Date range: 1950-2022\n",
    "* Collecting methodology: An annual list of top 100 popular baby names in NSW is based on the names registered in the previous calendar year. "
   ]
  },
  {
   "cell_type": "code",
   "execution_count": 1,
   "metadata": {},
   "outputs": [
    {
     "data": {
      "text/html": [
       "<div>\n",
       "<style scoped>\n",
       "    .dataframe tbody tr th:only-of-type {\n",
       "        vertical-align: middle;\n",
       "    }\n",
       "\n",
       "    .dataframe tbody tr th {\n",
       "        vertical-align: top;\n",
       "    }\n",
       "\n",
       "    .dataframe thead th {\n",
       "        text-align: right;\n",
       "    }\n",
       "</style>\n",
       "<table border=\"1\" class=\"dataframe\">\n",
       "  <thead>\n",
       "    <tr style=\"text-align: right;\">\n",
       "      <th></th>\n",
       "      <th>Rank</th>\n",
       "      <th>Name</th>\n",
       "      <th>Number</th>\n",
       "      <th>Gender</th>\n",
       "      <th>Year</th>\n",
       "    </tr>\n",
       "  </thead>\n",
       "  <tbody>\n",
       "    <tr>\n",
       "      <th>0</th>\n",
       "      <td>1</td>\n",
       "      <td>NOAH</td>\n",
       "      <td>630</td>\n",
       "      <td>Male</td>\n",
       "      <td>2022</td>\n",
       "    </tr>\n",
       "    <tr>\n",
       "      <th>1</th>\n",
       "      <td>1</td>\n",
       "      <td>CHARLOTTE</td>\n",
       "      <td>430</td>\n",
       "      <td>Female</td>\n",
       "      <td>2022</td>\n",
       "    </tr>\n",
       "    <tr>\n",
       "      <th>2</th>\n",
       "      <td>2</td>\n",
       "      <td>OLIVER</td>\n",
       "      <td>628</td>\n",
       "      <td>Male</td>\n",
       "      <td>2022</td>\n",
       "    </tr>\n",
       "    <tr>\n",
       "      <th>3</th>\n",
       "      <td>2</td>\n",
       "      <td>AMELIA</td>\n",
       "      <td>425</td>\n",
       "      <td>Female</td>\n",
       "      <td>2022</td>\n",
       "    </tr>\n",
       "    <tr>\n",
       "      <th>4</th>\n",
       "      <td>3</td>\n",
       "      <td>LEO</td>\n",
       "      <td>447</td>\n",
       "      <td>Male</td>\n",
       "      <td>2022</td>\n",
       "    </tr>\n",
       "  </tbody>\n",
       "</table>\n",
       "</div>"
      ],
      "text/plain": [
       "    Rank       Name  Number  Gender  Year\n",
       "0      1       NOAH     630    Male  2022\n",
       "1      1  CHARLOTTE     430  Female  2022\n",
       "2      2     OLIVER     628    Male  2022\n",
       "3      2     AMELIA     425  Female  2022\n",
       "4      3        LEO     447    Male  2022"
      ]
     },
     "execution_count": 1,
     "metadata": {},
     "output_type": "execute_result"
    }
   ],
   "source": [
    "# Export the csv file into a dataframe\n",
    "import pandas as pd\n",
    "\n",
    "names = pd.read_csv('popular_baby_names_1952_to_2022-v2.csv')\n",
    "names.head()"
   ]
  },
  {
   "cell_type": "code",
   "execution_count": 2,
   "metadata": {},
   "outputs": [
    {
     "name": "stdout",
     "output_type": "stream",
     "text": [
      "<class 'pandas.core.frame.DataFrame'>\n",
      "RangeIndex: 14200 entries, 0 to 14199\n",
      "Data columns (total 5 columns):\n",
      " #   Column  Non-Null Count  Dtype \n",
      "---  ------  --------------  ----- \n",
      " 0    Rank   14200 non-null  int64 \n",
      " 1   Name    14200 non-null  object\n",
      " 2   Number  14200 non-null  int64 \n",
      " 3   Gender  14200 non-null  object\n",
      " 4   Year    14200 non-null  int64 \n",
      "dtypes: int64(3), object(2)\n",
      "memory usage: 554.8+ KB\n"
     ]
    }
   ],
   "source": [
    "# Inspect the data quality of the dataframe\n",
    "names.info()"
   ]
  },
  {
   "cell_type": "code",
   "execution_count": 4,
   "metadata": {},
   "outputs": [
    {
     "data": {
      "text/html": [
       "<div>\n",
       "<style scoped>\n",
       "    .dataframe tbody tr th:only-of-type {\n",
       "        vertical-align: middle;\n",
       "    }\n",
       "\n",
       "    .dataframe tbody tr th {\n",
       "        vertical-align: top;\n",
       "    }\n",
       "\n",
       "    .dataframe thead th {\n",
       "        text-align: right;\n",
       "    }\n",
       "</style>\n",
       "<table border=\"1\" class=\"dataframe\">\n",
       "  <thead>\n",
       "    <tr style=\"text-align: right;\">\n",
       "      <th></th>\n",
       "      <th>Rank</th>\n",
       "      <th>Name</th>\n",
       "      <th>Number</th>\n",
       "      <th>Gender</th>\n",
       "      <th>Year</th>\n",
       "    </tr>\n",
       "  </thead>\n",
       "  <tbody>\n",
       "    <tr>\n",
       "      <th>0</th>\n",
       "      <td>1</td>\n",
       "      <td>Noah</td>\n",
       "      <td>630</td>\n",
       "      <td>Male</td>\n",
       "      <td>2022</td>\n",
       "    </tr>\n",
       "    <tr>\n",
       "      <th>1</th>\n",
       "      <td>1</td>\n",
       "      <td>Charlotte</td>\n",
       "      <td>430</td>\n",
       "      <td>Female</td>\n",
       "      <td>2022</td>\n",
       "    </tr>\n",
       "    <tr>\n",
       "      <th>2</th>\n",
       "      <td>2</td>\n",
       "      <td>Oliver</td>\n",
       "      <td>628</td>\n",
       "      <td>Male</td>\n",
       "      <td>2022</td>\n",
       "    </tr>\n",
       "    <tr>\n",
       "      <th>3</th>\n",
       "      <td>2</td>\n",
       "      <td>Amelia</td>\n",
       "      <td>425</td>\n",
       "      <td>Female</td>\n",
       "      <td>2022</td>\n",
       "    </tr>\n",
       "    <tr>\n",
       "      <th>4</th>\n",
       "      <td>3</td>\n",
       "      <td>Leo</td>\n",
       "      <td>447</td>\n",
       "      <td>Male</td>\n",
       "      <td>2022</td>\n",
       "    </tr>\n",
       "  </tbody>\n",
       "</table>\n",
       "</div>"
      ],
      "text/plain": [
       "    Rank       Name  Number  Gender  Year\n",
       "0      1       Noah     630    Male  2022\n",
       "1      1  Charlotte     430  Female  2022\n",
       "2      2     Oliver     628    Male  2022\n",
       "3      2     Amelia     425  Female  2022\n",
       "4      3        Leo     447    Male  2022"
      ]
     },
     "execution_count": 4,
     "metadata": {},
     "output_type": "execute_result"
    }
   ],
   "source": [
    "# Capitalise the first letter of each name\n",
    "names['Name'] = names['Name'].str.title()\n",
    "names.head()"
   ]
  },
  {
   "attachments": {},
   "cell_type": "markdown",
   "metadata": {},
   "source": [
    "**1. Classic Australian Names**"
   ]
  },
  {
   "cell_type": "code",
   "execution_count": 30,
   "metadata": {},
   "outputs": [
    {
     "data": {
      "text/html": [
       "<div>\n",
       "<style scoped>\n",
       "    .dataframe tbody tr th:only-of-type {\n",
       "        vertical-align: middle;\n",
       "    }\n",
       "\n",
       "    .dataframe tbody tr th {\n",
       "        vertical-align: top;\n",
       "    }\n",
       "\n",
       "    .dataframe thead th {\n",
       "        text-align: right;\n",
       "    }\n",
       "</style>\n",
       "<table border=\"1\" class=\"dataframe\">\n",
       "  <thead>\n",
       "    <tr style=\"text-align: right;\">\n",
       "      <th></th>\n",
       "      <th></th>\n",
       "      <th>Number</th>\n",
       "    </tr>\n",
       "    <tr>\n",
       "      <th>Name</th>\n",
       "      <th>Gender</th>\n",
       "      <th></th>\n",
       "    </tr>\n",
       "  </thead>\n",
       "  <tbody>\n",
       "    <tr>\n",
       "      <th>Michael</th>\n",
       "      <th>Male</th>\n",
       "      <td>70685</td>\n",
       "    </tr>\n",
       "    <tr>\n",
       "      <th>James</th>\n",
       "      <th>Male</th>\n",
       "      <td>45140</td>\n",
       "    </tr>\n",
       "    <tr>\n",
       "      <th>Daniel</th>\n",
       "      <th>Male</th>\n",
       "      <td>44412</td>\n",
       "    </tr>\n",
       "    <tr>\n",
       "      <th>William</th>\n",
       "      <th>Male</th>\n",
       "      <td>31250</td>\n",
       "    </tr>\n",
       "    <tr>\n",
       "      <th>Thomas</th>\n",
       "      <th>Male</th>\n",
       "      <td>28624</td>\n",
       "    </tr>\n",
       "    <tr>\n",
       "      <th>Elizabeth</th>\n",
       "      <th>Female</th>\n",
       "      <td>22001</td>\n",
       "    </tr>\n",
       "    <tr>\n",
       "      <th>Joseph</th>\n",
       "      <th>Male</th>\n",
       "      <td>14157</td>\n",
       "    </tr>\n",
       "    <tr>\n",
       "      <th>Patrick</th>\n",
       "      <th>Male</th>\n",
       "      <td>13494</td>\n",
       "    </tr>\n",
       "    <tr>\n",
       "      <th>George</th>\n",
       "      <th>Male</th>\n",
       "      <td>12107</td>\n",
       "    </tr>\n",
       "  </tbody>\n",
       "</table>\n",
       "</div>"
      ],
      "text/plain": [
       "                  Number\n",
       "Name      Gender        \n",
       "Michael   Male     70685\n",
       "James     Male     45140\n",
       "Daniel    Male     44412\n",
       "William   Male     31250\n",
       "Thomas    Male     28624\n",
       "Elizabeth Female   22001\n",
       "Joseph    Male     14157\n",
       "Patrick   Male     13494\n",
       "George    Male     12107"
      ]
     },
     "execution_count": 30,
     "metadata": {},
     "output_type": "execute_result"
    }
   ],
   "source": [
    "# Filter names that appear in every year\n",
    "consistent_names = names.groupby(['Name', 'Gender']).filter(lambda x: len(x) == 71)\n",
    "\n",
    "# Group by name and sum the number of births, and sort by the number of births descendingly\n",
    "consistent_names.groupby(['Name', 'Gender']).agg({'Number': 'sum'}).sort_values(by='Number', ascending=False)\n"
   ]
  },
  {
   "attachments": {},
   "cell_type": "markdown",
   "metadata": {},
   "source": [
    "It looks like there are a lot of timeless traditionally male names. There is only one for female, and it is Elizabeth."
   ]
  },
  {
   "attachments": {},
   "cell_type": "markdown",
   "metadata": {},
   "source": [
    "**2. Timeless or trendy?**\n",
    "\n",
    "Let's broaden our understanding of the dataset by looking at all names. We'll attempt to capture the type of popularity that each name in the dataset enjoyed. Was the name classic and popular across many years or trendy, only popular for a few years? Let's find out."
   ]
  }
 ],
 "metadata": {
  "kernelspec": {
   "display_name": "base",
   "language": "python",
   "name": "python3"
  },
  "language_info": {
   "codemirror_mode": {
    "name": "ipython",
    "version": 3
   },
   "file_extension": ".py",
   "mimetype": "text/x-python",
   "name": "python",
   "nbconvert_exporter": "python",
   "pygments_lexer": "ipython3",
   "version": "3.8.5"
  },
  "orig_nbformat": 4
 },
 "nbformat": 4,
 "nbformat_minor": 2
}
